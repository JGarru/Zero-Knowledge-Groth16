{
 "cells": [
  {
   "cell_type": "markdown",
   "id": "049b54bd-2a45-4a73-811a-4db71d059527",
   "metadata": {},
   "source": [
    "# ZERO-KNOWLEDGE PROOFS AND THEIR BLOCKCHAIN APPLICATIONS - GROTH16"
   ]
  },
  {
   "cell_type": "markdown",
   "id": "b59af653-7d20-46ca-97ec-078e6ddc20bc",
   "metadata": {},
   "source": [
    "This notebook contains the code used for Chapter 3 of my Bachelor's dissertation. The one attached to the document is slightly modified (it is simpler) to achieve more readability. We will follow the steps described in the Moon Manual and in Barreto's Pairing-Friendly Elliptic Curves of Prime Order to obtain a suitable curve"
   ]
  },
  {
   "cell_type": "code",
   "execution_count": 1,
   "id": "357537fa-bac8-433a-9e53-e345078bb516",
   "metadata": {},
   "outputs": [],
   "source": [
    "# Function defined to find the embedding degree of the elliptic curve of \n",
    "# order prime_order with respect to prime_searched\n",
    "def embedding_degree(prime_searched,prime_order):\n",
    "    order = prime_order\n",
    "    found = False\n",
    "    # We iterate on k from 1 to order-1 because we know that k=order-1\n",
    "    # verifies the equation because of Fermat's little theorem  \n",
    "    for k in range(1,prime_order-1): \n",
    "        if (prime_order^k-1)%prime_searched == 0:\n",
    "            found = True\n",
    "            break\n",
    "\n",
    "    if found==False:\n",
    "        return -1\n",
    "    return k"
   ]
  },
  {
   "cell_type": "code",
   "execution_count": 2,
   "id": "ecbdae57-a4c1-4791-8c42-cb1e7427fc55",
   "metadata": {},
   "outputs": [
    {
     "name": "stdout",
     "output_type": "stream",
     "text": [
      "Taking x = 103 satisfies the condition with p(x) = 36438379 and t(x) = 104\n"
     ]
    }
   ],
   "source": [
    "# Define limit of iterations\n",
    "max_lim = 100000\n",
    "found = False\n",
    "\n",
    "# Define the functions t(x) and p(x) as provided in the BLS6 method\n",
    "def t(x):\n",
    "    return x + 1\n",
    "\n",
    "def p(x):\n",
    "    return (1/3) * (1 - x)**2 * (x**2 - x + 1) + x\n",
    "\n",
    "# Define prime value of the base prime field of the problem\n",
    "q=19\n",
    "\n",
    "# Iterate over values of x\n",
    "for x in range(2, max_lim):\n",
    "    p_x = p(x)\n",
    "    t_x = t(x)\n",
    "    expr = p_x + 1 - t_x\n",
    "    # We ensure expr has q as a divisor and p_x is a prime integer and\n",
    "    # embedding degree is 6\n",
    "    if expr % q == 0 and p_x in ZZ and is_prime(int(p_x)) and embedding_degree(q,p_x)==6:\n",
    "        print(f\"Taking x = {x} satisfies the condition with p(x) = {p_x} and t(x) = {t_x}\")\n",
    "        found = True\n",
    "        break;\n",
    "\n",
    "if found == False:\n",
    "    print(f\"An x value verifying the conditions was not found. Please change the prime q\")   "
   ]
  },
  {
   "cell_type": "code",
   "execution_count": 3,
   "id": "9b6f78f8-6bce-4a64-8149-66eb8a18aee8",
   "metadata": {},
   "outputs": [
    {
     "name": "stdout",
     "output_type": "stream",
     "text": [
      "2^2 * 3 * 7 * 17^2 * 19 * 79\n",
      "36438379\n"
     ]
    },
    {
     "data": {
      "text/plain": [
       "(None, None)"
      ]
     },
     "execution_count": 3,
     "metadata": {},
     "output_type": "execute_result"
    }
   ],
   "source": [
    "print(factor(expr)),print(factor(p_x))"
   ]
  },
  {
   "cell_type": "markdown",
   "id": "81dec4cf-da44-4b4c-91cf-301e1324563b",
   "metadata": {},
   "source": [
    "#### We can also check that the equation seen before holds with D=-3"
   ]
  },
  {
   "cell_type": "code",
   "execution_count": 4,
   "id": "1fb46078-44f7-4e81-bd97-397919c77c0e",
   "metadata": {},
   "outputs": [
    {
     "name": "stdout",
     "output_type": "stream",
     "text": [
      "[\n",
      "v == -6970,\n",
      "v == 6970\n",
      "]\n"
     ]
    }
   ],
   "source": [
    "v = var('v')\n",
    "D = -3\n",
    "\n",
    "# Define the equation\n",
    "equation = 4 * p_x == t_x^2 + abs(D) * v^2\n",
    "\n",
    "# Solve the equation\n",
    "solution = solve(equation, v)\n",
    "print(solution)"
   ]
  },
  {
   "cell_type": "markdown",
   "id": "e782ee0a-86ad-4db8-8472-295e56d842f4",
   "metadata": {},
   "source": [
    "#### We need to choose c_2 = quadratic residue mod 2 and c_3 = quadratic non-residue mod 3 in F_p_x"
   ]
  },
  {
   "cell_type": "code",
   "execution_count": 5,
   "id": "bb89af32-3915-451b-bb83-f7b1ef000fbe",
   "metadata": {},
   "outputs": [
    {
     "name": "stdout",
     "output_type": "stream",
     "text": [
      "c2 is a quadratic non-residue\n",
      "c3 is a cubic non-residue\n"
     ]
    }
   ],
   "source": [
    "# Set up two random candidates following in the BLS6 method\n",
    "candidate_c2 = 2\n",
    "candidate_c3 = 6\n",
    "\n",
    "# Define base field of order p_x\n",
    "F_base = GF(p_x)\n",
    "\n",
    "# Try if candidate_c2 is quadratic non-residue\n",
    "c2 = F_base(candidate_c2)\n",
    "try: \n",
    "    c2.nth_root(candidate_c2)\n",
    "except ValueError:\n",
    "    print(\"c2 is a quadratic non-residue\")\n",
    "\n",
    "# Try if candidate_c3 is cubic non-residue\n",
    "c3 =F_base(candidate_c3)\n",
    "try:\n",
    "    c3.nth_root(candidate_c3)\n",
    "except ValueError:\n",
    "    print(\"c3 is a cubic non-residue\") "
   ]
  },
  {
   "cell_type": "markdown",
   "id": "10d1dec9-755f-46e4-9d8a-d2bf23d7b3cd",
   "metadata": {},
   "source": [
    "#### We now need to check which of the polynomials generates the elliptic curve of the desired order"
   ]
  },
  {
   "cell_type": "code",
   "execution_count": 6,
   "id": "eac53a43-88d6-45e0-923b-0c86faedff62",
   "metadata": {
    "scrolled": true
   },
   "outputs": [
    {
     "name": "stdout",
     "output_type": "stream",
     "text": [
      "True [0, 1] Elliptic Curve defined by y^2 = x^3 + 1 over Finite Field of size 36438379 36438276\n"
     ]
    }
   ],
   "source": [
    "# As defined in BLS6: List of polynomials that need to be checked when j=0 and D =-3\n",
    "polynomials = [[0,1],[0,c2^3],[0,c3^2],[0,c3^2*c2^3],[0,c3^(-2)],[0,c3^(-2)*c2^3]]\n",
    "\n",
    "# Reinitialize exit variable\n",
    "found = False\n",
    "# Iterate on the polynomials and find which one matches the order\n",
    "for poly in polynomials:\n",
    "    poly_used = poly\n",
    "    # Define elliptic curve\n",
    "    BLS = EllipticCurve(F_base,poly)\n",
    "    # Verify it matches the desired order\n",
    "    if BLS.order() == expr:\n",
    "        found = True\n",
    "        break;\n",
    "\n",
    "# Print the exit variable, the found polynomial and the order of the curve\n",
    "print(found,poly_used, BLS, BLS.order())"
   ]
  },
  {
   "cell_type": "markdown",
   "id": "06dfda38-b5ad-4a49-b450-6b694f27c382",
   "metadata": {},
   "source": [
    "#### Plotting the curve if q <= 13 (to avoid crashing because of the number of points)"
   ]
  },
  {
   "cell_type": "code",
   "execution_count": 7,
   "id": "c98c9e26-5d41-4121-a00c-f0ba0c4cb8c1",
   "metadata": {},
   "outputs": [],
   "source": [
    "if(q<=13):\n",
    "    plot = BLS.plot()\n",
    "    plot.show()"
   ]
  },
  {
   "cell_type": "markdown",
   "id": "757ab6cb-a37e-44c1-a8de-fc8d866dbc8b",
   "metadata": {},
   "source": [
    "#### We create the q-torsion subgroups"
   ]
  },
  {
   "cell_type": "code",
   "execution_count": 8,
   "id": "20b9e2e4-e759-4188-8b5a-816961934cd3",
   "metadata": {},
   "outputs": [],
   "source": [
    "# Select a randdom point in the curve that will be used to find a generator \n",
    "# of the cyclic subgroup G_1\n",
    "\n",
    "# Set random seed for reproducibility\n",
    "set_random_seed(42)\n",
    "\n",
    "# Define the point randomly or use the one used for obtaining the results\n",
    "# presented in the dissertation: P1 = BLS(25734263,28283947,1)\n",
    "\n",
    "P1 = BLS.random_point()\n",
    "P1 = BLS(25734263,28283947,1)"
   ]
  },
  {
   "cell_type": "code",
   "execution_count": 9,
   "id": "db367910-c6f0-4983-8162-28ab93976121",
   "metadata": {},
   "outputs": [
    {
     "name": "stdout",
     "output_type": "stream",
     "text": [
      "(25734263 : 28283947 : 1)\n"
     ]
    }
   ],
   "source": [
    "print(P1)"
   ]
  },
  {
   "cell_type": "code",
   "execution_count": 10,
   "id": "215b482d-1d42-4dd5-b24c-2c21c6061811",
   "metadata": {},
   "outputs": [
    {
     "data": {
      "text/plain": [
       "(2^2 * 3 * 7 * 17^2 * 79, 1917804)"
      ]
     },
     "execution_count": 10,
     "metadata": {},
     "output_type": "execute_result"
    }
   ],
   "source": [
    "# We take the cofactor of the prime value whose cyclic group we aim to find\n",
    "cofactor = factor(expr/q)\n",
    "cofactor_value = cofactor.value()\n",
    "cofactor, cofactor_value"
   ]
  },
  {
   "cell_type": "code",
   "execution_count": 11,
   "id": "cc6b7754-31c0-438d-b480-a10f431dbda8",
   "metadata": {},
   "outputs": [
    {
     "data": {
      "text/plain": [
       "(25136134, 25958637)"
      ]
     },
     "execution_count": 11,
     "metadata": {},
     "output_type": "execute_result"
    }
   ],
   "source": [
    "# We take the cofactor to obtain a generator of the cyclic group of order q\n",
    "# It is an element of order q\n",
    "g1 = int(cofactor_value)*P1\n",
    "g1.xy()"
   ]
  },
  {
   "cell_type": "code",
   "execution_count": 12,
   "id": "796e298d-b4e4-4a0b-807f-dc6d5f314c55",
   "metadata": {
    "scrolled": true
   },
   "outputs": [
    {
     "name": "stdout",
     "output_type": "stream",
     "text": [
      "[(0 : 1 : 0), (25136134 : 25958637 : 1), (7275896 : 13973809 : 1), (13312868 : 13973809 : 1), (25099705 : 3908357 : 1), (15849615 : 22464570 : 1), (26454473 : 3908357 : 1), (14805829 : 25958637 : 1), (32934795 : 10479742 : 1), (21322580 : 3908357 : 1), (21322580 : 32530022 : 1), (32934795 : 25958637 : 1), (14805829 : 10479742 : 1), (26454473 : 32530022 : 1), (15849615 : 13973809 : 1), (25099705 : 32530022 : 1), (13312868 : 22464570 : 1), (7275896 : 22464570 : 1), (25136134 : 10479742 : 1)]\n"
     ]
    }
   ],
   "source": [
    "# We return the subgroup of order q\n",
    "G1_q = [x*g1 for x in range(0,q)]\n",
    "print(G1_q)"
   ]
  },
  {
   "cell_type": "markdown",
   "id": "2037d1a9-0215-42d9-82e3-c5328947fa11",
   "metadata": {},
   "source": [
    "#### We verify the order of each of the elliptic cuve points"
   ]
  },
  {
   "cell_type": "code",
   "execution_count": 13,
   "id": "386aa0cd-1520-40a7-a8ba-3b03eb667d39",
   "metadata": {
    "scrolled": true
   },
   "outputs": [
    {
     "name": "stdout",
     "output_type": "stream",
     "text": [
      "Point (0 : 1 : 0) is the point at infinity.  Count = 0\n",
      "Point (25136134 : 25958637 : 1) has expected order 19. [1]_1 = (25136134 : 25958637 : 1)\n",
      "Point (7275896 : 13973809 : 1) has expected order 19. [2]_1 = (7275896 : 13973809 : 1)\n",
      "Point (13312868 : 13973809 : 1) has expected order 19. [3]_1 = (13312868 : 13973809 : 1)\n",
      "Point (25099705 : 3908357 : 1) has expected order 19. [4]_1 = (25099705 : 3908357 : 1)\n",
      "Point (15849615 : 22464570 : 1) has expected order 19. [5]_1 = (15849615 : 22464570 : 1)\n",
      "Point (26454473 : 3908357 : 1) has expected order 19. [6]_1 = (26454473 : 3908357 : 1)\n",
      "Point (14805829 : 25958637 : 1) has expected order 19. [7]_1 = (14805829 : 25958637 : 1)\n",
      "Point (32934795 : 10479742 : 1) has expected order 19. [8]_1 = (32934795 : 10479742 : 1)\n",
      "Point (21322580 : 3908357 : 1) has expected order 19. [9]_1 = (21322580 : 3908357 : 1)\n",
      "Point (21322580 : 32530022 : 1) has expected order 19. [10]_1 = (21322580 : 32530022 : 1)\n",
      "Point (32934795 : 25958637 : 1) has expected order 19. [11]_1 = (32934795 : 25958637 : 1)\n",
      "Point (14805829 : 10479742 : 1) has expected order 19. [12]_1 = (14805829 : 10479742 : 1)\n",
      "Point (26454473 : 32530022 : 1) has expected order 19. [13]_1 = (26454473 : 32530022 : 1)\n",
      "Point (15849615 : 13973809 : 1) has expected order 19. [14]_1 = (15849615 : 13973809 : 1)\n",
      "Point (25099705 : 32530022 : 1) has expected order 19. [15]_1 = (25099705 : 32530022 : 1)\n",
      "Point (13312868 : 22464570 : 1) has expected order 19. [16]_1 = (13312868 : 22464570 : 1)\n",
      "Point (7275896 : 22464570 : 1) has expected order 19. [17]_1 = (7275896 : 22464570 : 1)\n",
      "Point (25136134 : 10479742 : 1) has expected order 19. [18]_1 = (25136134 : 10479742 : 1)\n"
     ]
    }
   ],
   "source": [
    "k = 0\n",
    "for point in G1_q:\n",
    "    if point.has_order(q):\n",
    "        print(f\"Point {point} has expected order {q}. [{k}]_1 = {point}\")\n",
    "    else: \n",
    "        print(f\"Point {point} is the point at infinity.  Count = {k}\")\n",
    "    k+=1"
   ]
  },
  {
   "cell_type": "markdown",
   "id": "832b7a0f-56e8-4c63-a984-a983a9cb310d",
   "metadata": {},
   "source": [
    "#### We define the base field"
   ]
  },
  {
   "cell_type": "code",
   "execution_count": 14,
   "id": "d3e66de1-ccdb-4dd3-ac12-8af6f759a496",
   "metadata": {},
   "outputs": [],
   "source": [
    "# We now use the base field and define its extension\n",
    "F_p = F_base\n",
    "F_pt.<t> = F_p[]"
   ]
  },
  {
   "cell_type": "markdown",
   "id": "0e51c5ee-260d-493f-81ad-29d873a47ae0",
   "metadata": {},
   "source": [
    "#### We find an irreducible polynomial of order the embedding degree = 6"
   ]
  },
  {
   "cell_type": "code",
   "execution_count": 15,
   "id": "74dbdc0f-a87b-4bca-bb2e-5dbe1c6f1500",
   "metadata": {},
   "outputs": [
    {
     "name": "stdout",
     "output_type": "stream",
     "text": [
      "t^6 + 6\n"
     ]
    }
   ],
   "source": [
    "# We find an irreducible polynomial of order the embedding degree k=6 to\n",
    "# later define the extension of the curve\n",
    "k=6\n",
    "# We try first with some a polynomial to easen the representation\n",
    "poly = poly = F_pt(t^6+6)\n",
    "# If this polynomial is not irreducible we find a random one\n",
    "while poly.is_irreducible() == False:\n",
    "    poly = F_pt.random_element(degree=k)\n",
    "\n",
    "# We return the polynomial\n",
    "print(poly)"
   ]
  },
  {
   "cell_type": "markdown",
   "id": "b26abe34-f185-4559-9588-e75fecdb26c5",
   "metadata": {},
   "source": [
    "#### We define the polynomial extension field using the polynomial"
   ]
  },
  {
   "cell_type": "code",
   "execution_count": 16,
   "id": "e74ace3b-7b5e-4f13-9181-479605a4b390",
   "metadata": {},
   "outputs": [
    {
     "data": {
      "text/plain": [
       "2340746011669805040522667939871270637920895721"
      ]
     },
     "execution_count": 16,
     "metadata": {},
     "output_type": "execute_result"
    }
   ],
   "source": [
    "F_pt_6.<v> = GF(p_x^k, name='v', modulus=poly)\n",
    "F_pt_6.order()"
   ]
  },
  {
   "cell_type": "markdown",
   "id": "a29d0c66-cd53-4d13-8b30-984f69d0c116",
   "metadata": {},
   "source": [
    "#### We define the curve extension and extract a generator of the full q-torsion group"
   ]
  },
  {
   "cell_type": "code",
   "execution_count": 17,
   "id": "db7ed78f-92c0-4ad2-8c58-f1ae03e4870b",
   "metadata": {},
   "outputs": [
    {
     "name": "stdout",
     "output_type": "stream",
     "text": [
      "(1210439*v^4 : 12881022*v^3 : 1)\n"
     ]
    }
   ],
   "source": [
    "# We define the curve extension\n",
    "ExtBLS6 = EllipticCurve(F_pt_6,poly_used) # curve extension \n",
    "INF = ExtBLS6(0) # point at infinity \n",
    "\n",
    "# We find the point that is applied to itself with the Frobenius isomorphism\n",
    "for P in INF.division_points(q): # full q-torsion\n",
    "    if P.order() == q: # exclude point at infinity \n",
    "        piP = ExtBLS6([a.frobenius() for a in P])\n",
    "        qP = p_x*P\n",
    "        if piP == qP:\n",
    "            break\n",
    "# We define the generator of the second group of the Weil pairing domain      \n",
    "g2 = ExtBLS6(P.xy())\n",
    "print(g2)"
   ]
  },
  {
   "cell_type": "markdown",
   "id": "f9163aad-7394-42aa-8985-6e93c33422de",
   "metadata": {},
   "source": [
    "#### We define the full q-torsion group"
   ]
  },
  {
   "cell_type": "code",
   "execution_count": 18,
   "id": "7dc8fa04-6814-4c15-8946-9818e4249fa3",
   "metadata": {},
   "outputs": [
    {
     "name": "stdout",
     "output_type": "stream",
     "text": [
      "[(0 : 1 : 0), (1210439*v^4 : 12881022*v^3 : 1), (17333865*v^4 : 35359426*v^3 : 1), (29341190*v^4 : 35359426*v^3 : 1), (24534295*v^4 : 14278112*v^3 : 1), (26201703*v^4 : 1078953*v^3 : 1), (24328005*v^4 : 14278112*v^3 : 1), (17507987*v^4 : 12881022*v^3 : 1), (17719953*v^4 : 23557357*v^3 : 1), (24014458*v^4 : 14278112*v^3 : 1), (24014458*v^4 : 22160267*v^3 : 1), (17719953*v^4 : 12881022*v^3 : 1), (17507987*v^4 : 23557357*v^3 : 1), (24328005*v^4 : 22160267*v^3 : 1), (26201703*v^4 : 35359426*v^3 : 1), (24534295*v^4 : 22160267*v^3 : 1), (29341190*v^4 : 1078953*v^3 : 1), (17333865*v^4 : 1078953*v^3 : 1), (1210439*v^4 : 23557357*v^3 : 1)]\n"
     ]
    }
   ],
   "source": [
    "# We define the second cyclic group\n",
    "G2_q = [ x*g2 for x in range(0,q) ]\n",
    "print(G2_q)"
   ]
  },
  {
   "cell_type": "markdown",
   "id": "1a433ca1-b5df-4c14-9942-84aedd4ff8dd",
   "metadata": {},
   "source": [
    "#### We verify the weil pairing works as expected"
   ]
  },
  {
   "cell_type": "code",
   "execution_count": 19,
   "id": "2af2847e-8d9c-4f3b-8781-15f173f61ebe",
   "metadata": {},
   "outputs": [
    {
     "name": "stdout",
     "output_type": "stream",
     "text": [
      "8986105*v^5 + 6669926*v^4 + 27896706*v^3 + 13817967*v^2 + 19290815*v + 17867329 8986105*v^5 + 6669926*v^4 + 27896706*v^3 + 13817967*v^2 + 19290815*v + 17867329\n"
     ]
    }
   ],
   "source": [
    "# We intelligently define a set of values that we use to verify\n",
    "# the Weil paining works as expected\n",
    "index = [5,5,3,2] # 19 \n",
    "\n",
    "# We verify the values are well defined considering the\n",
    "# chosen prime order q\n",
    "if ((index[0]*index[1] - index[2]*index[3]) % q) != 0:\n",
    "   print(\"The product of the indices are not congruent\") \n",
    "\n",
    "# We define the points in the respective groups and check the \n",
    "# Weil pairings return the same value\n",
    "Q = ExtBLS6(G1_q[index[0]].xy())\n",
    "P = ExtBLS6(G2_q[index[1]].xy())\n",
    "\n",
    "Q_1 = ExtBLS6(G1_q[index[2]].xy())\n",
    "P_1 = ExtBLS6(G2_q[index[3]].xy())\n",
    "\n",
    "# We are meant to obtain two identical values\n",
    "print(Q.weil_pairing(P,q),Q_1.weil_pairing(P_1,q))"
   ]
  },
  {
   "cell_type": "markdown",
   "id": "8bcdcbb3-7a2c-4ef1-a1c2-639052404791",
   "metadata": {},
   "source": [
    "### GROTH16 PROTOCOL - UNDER THE HOOD ###"
   ]
  },
  {
   "cell_type": "code",
   "execution_count": 20,
   "id": "fb35f546-c3f5-4371-a55c-4b20fb82b253",
   "metadata": {},
   "outputs": [],
   "source": [
    "## Including problem-specific data ##"
   ]
  },
  {
   "cell_type": "code",
   "execution_count": 21,
   "id": "b05e319b-1f1f-4215-88e6-d2a62afb1fb5",
   "metadata": {},
   "outputs": [],
   "source": [
    "# We define the base field of order q for the polynomials\n",
    "# obtained in the previous program\n",
    "Fq = GF(q)\n",
    "Fqt.<t> = Fq[]"
   ]
  },
  {
   "cell_type": "code",
   "execution_count": 22,
   "id": "ea6842db-7077-408e-8c3e-aa16b55ad425",
   "metadata": {},
   "outputs": [],
   "source": [
    "# Polynomials obtained in the previous program\n",
    "# These must be changed in case the problem is changed\n",
    "A = [Fqt(18*t^3 + 15*t^2 + 5*t + 10),Fqt(0),Fqt(10*t^3 + 2*t^2 + 7*t + 14),Fqt(0),Fqt(0),Fqt(0),Fqt(0),Fqt(0),Fqt(4*t^3 + 11*t^2 + 11*t + 7),Fqt(16*t^3 + 14*t + 1),Fqt(8*t^3 + 6*t^2 + 6*t + 17)]\n",
    "B = [Fqt(0),Fqt(0),Fqt(0),Fqt(10*t^3 + 2*t^2 + 7*t + 14),Fqt(4*t^3 + 11*t^2 + 11*t + 7),Fqt(16*t^3 + 14*t + 1),Fqt(8*t^3 + 6*t^2 + 6*t + 17),Fqt(0),Fqt(0),Fqt(0),Fqt(0)]\n",
    "C =[Fqt(0),Fqt(8*t^3 + 6*t^2 + 6*t + 17),Fqt(0),Fqt(0),Fqt(0),Fqt(0),Fqt(0),Fqt(14*t^3 + t^2 + t + 6),Fqt(10*t^3 + 2*t^2 + 7*t + 14),Fqt(4*t^3 + 11*t^2 + 11*t + 7),Fqt(16*t^3 + 14*t + 1)]\n"
   ]
  },
  {
   "cell_type": "code",
   "execution_count": 23,
   "id": "cc807087-9b84-44d1-91de-3f49df5239ad",
   "metadata": {},
   "outputs": [],
   "source": [
    "# Filling in the instance, witness, resulting polynomial, target polynomial\n",
    "# and quotient polynomial\n",
    "# These must be changed in case the problem is changed\n",
    "I = [1]\n",
    "W = [4,3,3,5,1,2,6,18,14]\n",
    "P = Fqt(17*t^6 + 5*t^5 + 18*t^4 + 3*t^3 + 17*t^2 + 4*t + 2)\n",
    "T = Fqt(t^4 + 12*t^3 + 8*t^2 + 7*t + 15)\n",
    "H = Fqt(P/T)\n",
    "total = [1]+ I + W"
   ]
  },
  {
   "cell_type": "code",
   "execution_count": 24,
   "id": "d0545f8e-f7e5-41c8-8fe7-6dd45b059510",
   "metadata": {},
   "outputs": [],
   "source": [
    "## Setup phase ##"
   ]
  },
  {
   "cell_type": "code",
   "execution_count": 25,
   "id": "bc481a2d-20f7-44fb-81c3-774d452e02e4",
   "metadata": {},
   "outputs": [],
   "source": [
    "# Initializing the common reference string\n",
    "CRS = [[],[]]"
   ]
  },
  {
   "cell_type": "code",
   "execution_count": 26,
   "id": "c1a2c65e-3882-42b7-aba9-8334ab68a8cd",
   "metadata": {},
   "outputs": [],
   "source": [
    "# Setting up the simulation trapdoor\n",
    "# These must be changed to test the program works for any\n",
    "# sensible numeric choice\n",
    "alpha = 6\n",
    "beta = 5\n",
    "gamma = 4\n",
    "delta = 3\n",
    "tau = 2\n",
    "\n",
    "# We define the simulation trapdoor\n",
    "ST = [alpha,beta,gamma,delta,tau]\n",
    "\n",
    "# Setting up the two random values used for this execution\n",
    "# These can also be changed\n",
    "r = 10\n",
    "s = 5"
   ]
  },
  {
   "cell_type": "code",
   "execution_count": 27,
   "id": "a46cd464-f839-4d8b-b625-8291f17d6512",
   "metadata": {},
   "outputs": [],
   "source": [
    "# We start by defining the first set of arguments of the first CRS vector\n",
    "i = 0\n",
    "deg = T.degree()\n",
    "m = len(W)\n",
    "n = len(I)\n",
    "\n",
    "# Here is where the choices on alpha, beta and delta are first used\n",
    "for g in (g1,g2):\n",
    "    alpha_g = alpha * g\n",
    "    beta_g = beta * g\n",
    "    delta_g = delta * g\n",
    "    gamma_g = gamma * g\n",
    "    if  i==0:\n",
    "        CRS[i].append([alpha_g,beta_g,delta_g])\n",
    "    else:\n",
    "        CRS[i].append([beta_g,gamma_g,delta_g])\n",
    "    for j in range(0,deg):\n",
    "        CRS[i][0].append(tau^j * g)\n",
    "    i+=1"
   ]
  },
  {
   "cell_type": "code",
   "execution_count": 28,
   "id": "f9bbd6f1-23ef-4350-b167-4cc775489c9c",
   "metadata": {},
   "outputs": [],
   "source": [
    "# We define empty arrays for the second, third and fourth arguments\n",
    "# of the first CRS vector\n",
    "second_arg = []\n",
    "third_arg = []\n",
    "fourth_arg = []"
   ]
  },
  {
   "cell_type": "code",
   "execution_count": 29,
   "id": "e78dcf4b-9b7e-48a1-ace2-624d7e04c823",
   "metadata": {},
   "outputs": [],
   "source": [
    "for j in range(0,n+1):\n",
    "    g_1_power = g1 * ((beta * A[j](tau) + alpha * B[j](tau) + C[j](tau))/gamma)\n",
    "    second_arg.append(g_1_power)\n",
    "\n",
    "for j in range(1,m+1):\n",
    "    g_1_power = g1 * ((beta * A[j+n](tau) + alpha * B[j+n](tau) + C[j+n](tau))/delta)\n",
    "    third_arg.append(g_1_power)\n",
    "\n",
    "for j in range(0,deg-1):\n",
    "    g_1_power = g1 * ((tau^j * T(tau))/delta)\n",
    "    fourth_arg.append(g_1_power)"
   ]
  },
  {
   "cell_type": "code",
   "execution_count": 30,
   "id": "a91198f6-d70f-40d0-8739-cf950a7fc76c",
   "metadata": {},
   "outputs": [],
   "source": [
    "# We append it to the CRS\n",
    "CRS[0].append(second_arg)\n",
    "CRS[0].append(third_arg)\n",
    "CRS[0].append(fourth_arg)"
   ]
  },
  {
   "cell_type": "code",
   "execution_count": 31,
   "id": "6221d6b8-c4c6-48e4-a8e3-1c5b574eb99f",
   "metadata": {},
   "outputs": [],
   "source": [
    "## Proving phase ##"
   ]
  },
  {
   "cell_type": "code",
   "execution_count": 32,
   "id": "f4e4ca22-ca73-4d4a-b175-a53f11c1907a",
   "metadata": {},
   "outputs": [],
   "source": [
    "# Note that the values A,B,C,T,P,H will not be used\n",
    "# Only the values found in the CRS can be used because the\n",
    "# Simulation trapdoor is unkwon to the prover\n",
    "\n",
    "# Note that the witness instance information is used to create the proof"
   ]
  },
  {
   "cell_type": "code",
   "execution_count": 33,
   "id": "dcb33314-63f1-45de-b323-040fd333dddd",
   "metadata": {},
   "outputs": [],
   "source": [
    "# We initialize the rest of the elements that are used\n",
    "# (directly or indirectly) in the CRS definition\n",
    "g1_H,g1_W,g1_A,g1_B,g2_B,g1_C = 0,0,0,0,0,0"
   ]
  },
  {
   "cell_type": "code",
   "execution_count": 34,
   "id": "4661a600-b535-4ec9-982f-b4cc54146c93",
   "metadata": {},
   "outputs": [],
   "source": [
    "# Obtaining g1_W #"
   ]
  },
  {
   "cell_type": "code",
   "execution_count": 35,
   "id": "a36af539-da4f-424f-8b70-a7360dbb661f",
   "metadata": {},
   "outputs": [
    {
     "name": "stdout",
     "output_type": "stream",
     "text": [
      "(7275896 : 22464570 : 1)\n"
     ]
    }
   ],
   "source": [
    "# Initializing\n",
    "g1_W = 0\n",
    "j=0\n",
    "\n",
    "# Iterating on the CRS parameters and introducing the witness information\n",
    "for c in CRS[0][2]:\n",
    "    g1_W += W[j] * c\n",
    "    j+=1\n",
    "print(g1_W)"
   ]
  },
  {
   "cell_type": "code",
   "execution_count": 36,
   "id": "654c46c9-79ed-45ea-83d2-1bc8c2617b69",
   "metadata": {},
   "outputs": [],
   "source": [
    "# Obtaining g1_H #"
   ]
  },
  {
   "cell_type": "code",
   "execution_count": 37,
   "id": "d23b36a6-097b-422d-8048-afe7d7efdc48",
   "metadata": {},
   "outputs": [
    {
     "name": "stdout",
     "output_type": "stream",
     "text": [
      "(15849615 : 13973809 : 1)\n"
     ]
    }
   ],
   "source": [
    "# Initializing\n",
    "g1_H = 0\n",
    "j = 0\n",
    "\n",
    "# Iterating on H's coefficients introducing its information\n",
    "for h in H.coefficients(sparse=False):\n",
    "    g1_H += CRS[0][3][j] * h\n",
    "    j+=1\n",
    "print(g1_H)"
   ]
  },
  {
   "cell_type": "code",
   "execution_count": 38,
   "id": "8bd0e33a-10dd-4e41-ae7a-b6c8901699fc",
   "metadata": {},
   "outputs": [],
   "source": [
    "# Obtaining g1_A #"
   ]
  },
  {
   "cell_type": "code",
   "execution_count": 39,
   "id": "c209b530-9bdf-439f-80b8-fa3e28af3066",
   "metadata": {},
   "outputs": [
    {
     "name": "stdout",
     "output_type": "stream",
     "text": [
      "(25099705 : 3908357 : 1)\n"
     ]
    }
   ],
   "source": [
    "# Initializing\n",
    "j=tau_power=0\n",
    "g1_A = CRS[0][0][0] # g1 * alpha\n",
    "\n",
    "# Iterating on (1, instance, witness)\n",
    "for iw in total:\n",
    "    for a in A[j].coefficients(sparse=False):\n",
    "        g1_A += CRS[0][0][3+tau_power] * a * iw\n",
    "        tau_power+=1\n",
    "    tau_power=0\n",
    "    j+=1\n",
    "\n",
    "# Adding last term\n",
    "g1_A += r * CRS[0][0][2] # r * g1 * delta\n",
    "print(g1_A)"
   ]
  },
  {
   "cell_type": "code",
   "execution_count": 40,
   "id": "a1f3570b-23fb-4949-b61d-7f75bfcd2c8f",
   "metadata": {},
   "outputs": [
    {
     "name": "stdout",
     "output_type": "stream",
     "text": [
      "(32934795 : 10479742 : 1)\n"
     ]
    }
   ],
   "source": [
    "# Initializing\n",
    "j=tau_power=0\n",
    "g1_B = CRS[0][0][1] # g1 * beta\n",
    "\n",
    "# Iterating on (1,instance,witness)\n",
    "for iw in total:\n",
    "    for b in B[j].coefficients(sparse=False):\n",
    "        g1_B += CRS[0][0][3+tau_power] * b * iw\n",
    "        tau_power+=1\n",
    "    j+=1\n",
    "    tau_power=0\n",
    "\n",
    "# Adding last term\n",
    "g1_B += s * CRS[0][0][2] # s * g1 * delta\n",
    "print(g1_B)"
   ]
  },
  {
   "cell_type": "code",
   "execution_count": 41,
   "id": "6d7dacd3-ef73-406e-865b-02fed75a0b68",
   "metadata": {},
   "outputs": [
    {
     "data": {
      "text/plain": [
       "(17719953*v^4 : 23557357*v^3 : 1)"
      ]
     },
     "execution_count": 41,
     "metadata": {},
     "output_type": "execute_result"
    }
   ],
   "source": [
    "# Initializing\n",
    "j=tau_power=0\n",
    "g2_B = CRS[1][0][0] # g2 * beta\n",
    "\n",
    "# Iterating on (1,instance,witness)\n",
    "for iw in total:\n",
    "    for b in B[j].coefficients(sparse=False):\n",
    "        g2_B += CRS[1][0][3+tau_power] * b * iw\n",
    "        tau_power+=1\n",
    "    j+=1\n",
    "    tau_power=0\n",
    "\n",
    "# Adding last term\n",
    "g2_B += s * CRS[1][0][2] # s * g2 * delta\n",
    "g2_B"
   ]
  },
  {
   "cell_type": "code",
   "execution_count": 42,
   "id": "314af222-a53b-4d81-883d-75fc7081f892",
   "metadata": {},
   "outputs": [
    {
     "name": "stdout",
     "output_type": "stream",
     "text": [
      "(0 : 1 : 0)\n"
     ]
    }
   ],
   "source": [
    "# Obtaining g1_C\n",
    "g1_C = g1_W\n",
    "g1_C += g1_H\n",
    "g1_C += s * g1_A\n",
    "g1_C += r * g1_B\n",
    "g1_C += (-r * s) * CRS[0][0][2]\n",
    "print(g1_C)"
   ]
  },
  {
   "cell_type": "code",
   "execution_count": 43,
   "id": "49f7c0e3-25d0-4751-afac-e4191b4d322e",
   "metadata": {},
   "outputs": [],
   "source": [
    "# The generated proof is (g1_A,g1_C,g2_B)"
   ]
  },
  {
   "cell_type": "code",
   "execution_count": 44,
   "id": "9fbe600e-4d49-4146-9763-294e1acaf320",
   "metadata": {},
   "outputs": [],
   "source": [
    "## Verifying phase ##"
   ]
  },
  {
   "cell_type": "code",
   "execution_count": 45,
   "id": "bd3b2583-5888-404e-822d-d45842eed227",
   "metadata": {},
   "outputs": [
    {
     "name": "stdout",
     "output_type": "stream",
     "text": [
      "(21322580 : 32530022 : 1)\n"
     ]
    }
   ],
   "source": [
    "# Obtaining g1_I\n",
    "j=0\n",
    "g1_I = 0\n",
    "I_1 = [1] + I\n",
    "for c in CRS[0][1]:\n",
    "    g1_I += I_1[j] * c\n",
    "    j+=1\n",
    "print(g1_I)"
   ]
  },
  {
   "cell_type": "code",
   "execution_count": 46,
   "id": "ab9dd62e-8c5d-4c6b-814e-c75841d22f5d",
   "metadata": {},
   "outputs": [],
   "source": [
    "# Note the verifier can only use (g1_A,g1_C,g2_B), the CRS,\n",
    "# the Weil pairing and the computed g1_I"
   ]
  },
  {
   "cell_type": "code",
   "execution_count": 47,
   "id": "3132e8ef-23e7-4669-aadb-5092293ff807",
   "metadata": {},
   "outputs": [
    {
     "data": {
      "text/plain": [
       "True"
      ]
     },
     "execution_count": 47,
     "metadata": {},
     "output_type": "execute_result"
    }
   ],
   "source": [
    "ExtBLS6(g1_A).weil_pairing(g2_B,q) == (ExtBLS6(CRS[0][0][0]).weil_pairing(CRS[1][0][0],q) * ExtBLS6(g1_I).weil_pairing(CRS[1][0][1],q) * ExtBLS6(g1_C).weil_pairing(CRS[1][0][2],q))"
   ]
  },
  {
   "cell_type": "code",
   "execution_count": 48,
   "id": "9f130751-2a98-4b97-ab49-3531b51240ce",
   "metadata": {},
   "outputs": [],
   "source": [
    "##### VERIFYING THE PROTOCOL IS CORRECT #####"
   ]
  },
  {
   "cell_type": "code",
   "execution_count": 49,
   "id": "62cbf79e-22c1-4b2c-9e42-f8b996a7d0d2",
   "metadata": {},
   "outputs": [],
   "source": [
    "## Defining a discrete log function using the baby step giant step ##\n",
    "\n",
    "# Input: point and cyclic prime subgroup\n",
    "# Output: the discrete log of the point modulo the subgroup's order\n",
    "def discrete_log(E, P, G):\n",
    "    # Obtain order and ceiling m\n",
    "    n = G.order() \n",
    "    m = int(n**0.5) + 1\n",
    "\n",
    "    # Define the baby steps dictionary\n",
    "    baby_steps = {}\n",
    "    for j in range(m):\n",
    "        baby_steps[j * G] = j\n",
    "\n",
    "    # Define the point m in the group\n",
    "    mG = m * G\n",
    "\n",
    "    # Search for the discrete log iterating\n",
    "    for i in range(m):\n",
    "        giant_step = P - i * mG\n",
    "        if giant_step in baby_steps:\n",
    "            return i * m + baby_steps[giant_step]\n",
    "\n",
    "    return None  # The discrete logarithm was not found"
   ]
  },
  {
   "cell_type": "markdown",
   "id": "6b6bf3de-4c01-4674-b8de-9bf4b9ae09bf",
   "metadata": {},
   "source": [
    "#### We can verify the evaluation of both Weil pairings are equal manually"
   ]
  },
  {
   "cell_type": "code",
   "execution_count": 50,
   "id": "ea3d8d7e-c9cc-4338-ade5-325c619391f1",
   "metadata": {},
   "outputs": [
    {
     "data": {
      "text/plain": [
       "(4, 8, 6, 5, 10, 4, 0, 3)"
      ]
     },
     "execution_count": 50,
     "metadata": {},
     "output_type": "execute_result"
    }
   ],
   "source": [
    "discrete_log(ExtBLS6,g1_A,g1),discrete_log(ExtBLS6,g2_B,g2),discrete_log(ExtBLS6,CRS[0][0][0],g1),discrete_log(ExtBLS6,CRS[1][0][0],g2),discrete_log(ExtBLS6,g1_I,g1),discrete_log(ExtBLS6,CRS[1][0][1],g2),discrete_log(ExtBLS6,g1_C,g1),discrete_log(ExtBLS6,CRS[1][0][2],g2)"
   ]
  },
  {
   "cell_type": "code",
   "execution_count": 51,
   "id": "c93f1148-90a1-452d-9735-98a2044bbeee",
   "metadata": {},
   "outputs": [
    {
     "data": {
      "text/plain": [
       "True"
      ]
     },
     "execution_count": 51,
     "metadata": {},
     "output_type": "execute_result"
    }
   ],
   "source": [
    "((discrete_log(ExtBLS6,g1_A,g1)*discrete_log(ExtBLS6,g2_B,g2))%q) == (discrete_log(ExtBLS6,CRS[0][0][0],g1)*discrete_log(ExtBLS6,CRS[1][0][0],g2) + discrete_log(ExtBLS6,g1_I,g1)*discrete_log(ExtBLS6,CRS[1][0][1],g2) + discrete_log(ExtBLS6,g1_C,g1)*discrete_log(ExtBLS6,CRS[1][0][2],g2))%q"
   ]
  },
  {
   "cell_type": "code",
   "execution_count": 52,
   "id": "75f26778-5330-4cd5-9933-6827ea3d53e1",
   "metadata": {},
   "outputs": [],
   "source": [
    "# If the output is True the proof has been correctly built"
   ]
  },
  {
   "cell_type": "markdown",
   "id": "3558f9ba-7cff-430c-915c-f5d67ffb9192",
   "metadata": {},
   "source": [
    "#### We can verify the evaluation of both Weil pairings are equal visually"
   ]
  },
  {
   "cell_type": "code",
   "execution_count": 53,
   "id": "3a2254ec-93e1-46a3-993e-d586daac72bc",
   "metadata": {},
   "outputs": [
    {
     "data": {
      "text/plain": [
       "(27452274*v^5 + 6669926*v^4 + 8541673*v^3 + 13817967*v^2 + 17147564*v + 17867329,\n",
       " 27452274*v^5 + 6669926*v^4 + 8541673*v^3 + 13817967*v^2 + 17147564*v + 17867329)"
      ]
     },
     "execution_count": 53,
     "metadata": {},
     "output_type": "execute_result"
    }
   ],
   "source": [
    "ExtBLS6(g1_A).weil_pairing(g2_B,q), ExtBLS6(CRS[0][0][0]).weil_pairing(CRS[1][0][0],q)*ExtBLS6(g1_I).weil_pairing(CRS[1][0][1],q)*ExtBLS6(g1_C).weil_pairing(CRS[1][0][2],q)"
   ]
  }
 ],
 "metadata": {
  "kernelspec": {
   "display_name": "SageMath 10.3",
   "language": "sage",
   "name": "sagemath-10.3"
  },
  "language_info": {
   "codemirror_mode": {
    "name": "ipython",
    "version": 3
   },
   "file_extension": ".py",
   "mimetype": "text/x-python",
   "name": "python",
   "nbconvert_exporter": "python",
   "pygments_lexer": "ipython3",
   "version": "3.11.8"
  }
 },
 "nbformat": 4,
 "nbformat_minor": 5
}
