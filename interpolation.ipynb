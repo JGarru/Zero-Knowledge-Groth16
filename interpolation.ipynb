{
 "cells": [
  {
   "cell_type": "markdown",
   "id": "d61f6eb9-fb8b-48dd-96c5-6fd9dc91752d",
   "metadata": {},
   "source": [
    "# ZERO-KNOWLEDGE PROOFS AND THEIR BLOCKCHAIN APPLICATIONS - INTERPOLATION"
   ]
  },
  {
   "cell_type": "markdown",
   "id": "59a6d91c-cd38-4e69-ba57-6c9c505af994",
   "metadata": {},
   "source": [
    "This notebook contains the code used for Chapter 3 of my Bachelor's dissertation. The one attached to the document is slightly modified (it is simpler) to achieve more readability"
   ]
  },
  {
   "cell_type": "code",
   "execution_count": 27,
   "id": "ad07e077-6251-45b6-bbbb-74b1b82f4f97",
   "metadata": {},
   "outputs": [
    {
     "data": {
      "text/plain": [
       "Finite Field of size 19"
      ]
     },
     "execution_count": 27,
     "metadata": {},
     "output_type": "execute_result"
    }
   ],
   "source": [
    "# Define the prime order field\n",
    "q=19\n",
    "F_q = GF(q)\n",
    "F_q"
   ]
  },
  {
   "cell_type": "code",
   "execution_count": 28,
   "id": "4eb0bfc9-1e18-4bce-82ed-14fccce1ff02",
   "metadata": {},
   "outputs": [
    {
     "data": {
      "text/plain": [
       "Univariate Polynomial Ring in t over Finite Field of size 19"
      ]
     },
     "execution_count": 28,
     "metadata": {},
     "output_type": "execute_result"
    }
   ],
   "source": [
    "# Define the polynomial field\n",
    "F_qt.<t> = F_q[]\n",
    "F_qt"
   ]
  },
  {
   "cell_type": "code",
   "execution_count": 29,
   "id": "77fc5f7f-526f-469b-8f62-51e77314d076",
   "metadata": {},
   "outputs": [
    {
     "data": {
      "text/plain": [
       "t^4 + 12*t^3 + 8*t^2 + 7*t + 15"
      ]
     },
     "execution_count": 29,
     "metadata": {},
     "output_type": "execute_result"
    }
   ],
   "source": [
    "# Define target polynomial\n",
    "T = F_qt((t-11)*(t-5)*(t-7)*(t-3))\n",
    "T"
   ]
  },
  {
   "cell_type": "code",
   "execution_count": 22,
   "id": "f4169c40-5910-4b7f-85bb-c5dd627dfc5c",
   "metadata": {},
   "outputs": [],
   "source": [
    "# Initialize non-zero polynomials"
   ]
  },
  {
   "cell_type": "code",
   "execution_count": 30,
   "id": "8c6efcbd-7d83-4805-9ff5-e2ae985970a7",
   "metadata": {},
   "outputs": [
    {
     "data": {
      "text/plain": [
       "(18*t^3 + 15*t^2 + 5*t + 10,\n",
       " 10*t^3 + 2*t^2 + 7*t + 14,\n",
       " 4*t^3 + 11*t^2 + 11*t + 7,\n",
       " 16*t^3 + 14*t + 1,\n",
       " 8*t^3 + 6*t^2 + 6*t + 17)"
      ]
     },
     "execution_count": 30,
     "metadata": {},
     "output_type": "execute_result"
    }
   ],
   "source": [
    "A0 = F_qt.lagrange_polynomial([(11,-2),(5,0),(7,0),(3,0)])\n",
    "A2 = F_qt.lagrange_polynomial([(11,1),(5,0),(7,0),(3,0)])\n",
    "A8 = F_qt.lagrange_polynomial([(11,0),(5,1),(7,0),(3,0)])\n",
    "A9 = F_qt.lagrange_polynomial([(11,0),(5,0),(7,1),(3,0)])\n",
    "A10 = F_qt.lagrange_polynomial([(11,0),(5,0),(7,0),(3,1)])\n",
    "A0, A2, A8, A9, A10"
   ]
  },
  {
   "cell_type": "code",
   "execution_count": 31,
   "id": "079bc8af-2f30-42fe-9b96-faaed70c8723",
   "metadata": {},
   "outputs": [
    {
     "data": {
      "text/plain": [
       "(10*t^3 + 2*t^2 + 7*t + 14,\n",
       " 4*t^3 + 11*t^2 + 11*t + 7,\n",
       " 16*t^3 + 14*t + 1,\n",
       " 8*t^3 + 6*t^2 + 6*t + 17)"
      ]
     },
     "execution_count": 31,
     "metadata": {},
     "output_type": "execute_result"
    }
   ],
   "source": [
    "B3 = F_qt.lagrange_polynomial([(11,1),(5,0),(7,0),(3,0)])\n",
    "B4 = F_qt.lagrange_polynomial([(11,0),(5,1),(7,0),(3,0)])\n",
    "B5 = F_qt.lagrange_polynomial([(11,0),(5,0),(7,1),(3,0)])\n",
    "B6 = F_qt.lagrange_polynomial([(11,0),(5,0),(7,0),(3,1)])\n",
    "B3, B4, B5, B6"
   ]
  },
  {
   "cell_type": "code",
   "execution_count": 32,
   "id": "f8eb3b77-f55f-4fc5-99d9-219b16998523",
   "metadata": {},
   "outputs": [
    {
     "data": {
      "text/plain": [
       "(8*t^3 + 6*t^2 + 6*t + 17,\n",
       " 14*t^3 + t^2 + t + 6,\n",
       " 10*t^3 + 2*t^2 + 7*t + 14,\n",
       " 4*t^3 + 11*t^2 + 11*t + 7,\n",
       " 16*t^3 + 14*t + 1)"
      ]
     },
     "execution_count": 32,
     "metadata": {},
     "output_type": "execute_result"
    }
   ],
   "source": [
    "C1 = F_qt.lagrange_polynomial([(11,0),(5,0),(7,0),(3,1)])\n",
    "C7 = F_qt.lagrange_polynomial([(11,0),(5,0),(7,0),(3,-3)])\n",
    "C8 = F_qt.lagrange_polynomial([(11,1),(5,0),(7,0),(3,0)])\n",
    "C9 = F_qt.lagrange_polynomial([(11,0),(5,1),(7,0),(3,0)])\n",
    "C10 = F_qt.lagrange_polynomial([(11,0),(5,0),(7,1),(3,0)])\n",
    "C1, C7, C8, C9, C10"
   ]
  },
  {
   "cell_type": "code",
   "execution_count": 34,
   "id": "f053e439-d6ea-420e-bb1a-5afa0c1a7571",
   "metadata": {},
   "outputs": [],
   "source": [
    "# Initialize the rest of polynomials\n",
    "null_polynomials = 19\n",
    "A1,A3,A4,A5,A6,A7,B0,B1,B2,B7,B8,B9,B10,C0,C2,C3,C4,C5,C6 = [0 for i in range(0,null_polynomials)]"
   ]
  },
  {
   "cell_type": "code",
   "execution_count": 35,
   "id": "b3fad895-9c1f-4759-8657-5c84aa85cab7",
   "metadata": {},
   "outputs": [],
   "source": [
    "# Fill in the data: witness, instance, polynomials\n",
    "W = [NaN,4,3,3,5,1,2,6,18,14]\n",
    "# W = [NaN,6,3,4,2,1,8,12,14,11]\n",
    "I = [NaN,1]\n",
    "A = [A0,A1,A2,A3,A4,A5,A6,A7,A8,A9,A10]\n",
    "B = [B0,B1,B2,B3,B4,B5,B6,B7,B8,B9,B10]\n",
    "C = [C0,C1,C2,C3,C4,C5,C6,C7,C8,C9,C10]"
   ]
  },
  {
   "cell_type": "code",
   "execution_count": 36,
   "id": "60297af3-8dc4-4a2d-a0aa-3b49c85fec5a",
   "metadata": {},
   "outputs": [
    {
     "data": {
      "text/plain": [
       "(1, 9)"
      ]
     },
     "execution_count": 36,
     "metadata": {},
     "output_type": "execute_result"
    }
   ],
   "source": [
    "n,m = len(I)-1,len(W)-1\n",
    "n,m"
   ]
  },
  {
   "cell_type": "code",
   "execution_count": 37,
   "id": "60e2e314-6ce6-449a-acc6-944115a8acb2",
   "metadata": {},
   "outputs": [
    {
     "data": {
      "text/plain": [
       "(17*t^6 + 5*t^5 + 18*t^4 + 3*t^3 + 17*t^2 + 4*t + 2,\n",
       " 7*t^3 + 2*t^2 + 17*t + 3,\n",
       " 16*t^3 + 7*t^2 + 16*t + 9,\n",
       " 12*t^3 + 9*t^2 + 7*t + 6,\n",
       " t^4 + 12*t^3 + 8*t^2 + 7*t + 15)"
      ]
     },
     "execution_count": 37,
     "metadata": {},
     "output_type": "execute_result"
    }
   ],
   "source": [
    "# Define the polynomial expressions\n",
    "A_poly = A[0] + sum([A[j]*I[j] for j in range(1,n+1)]) + sum([A[j+n]*W[j] for j in range(1,m+1)])\n",
    "\n",
    "B_poly = B[0] + sum([B[j]*I[j] for j in range(1,n+1)]) + sum([B[j+n]*W[j] for j in range(1,m+1)])\n",
    "\n",
    "C_poly = C[0] + sum([C[j]*I[j] for j in range(1,n+1)]) + sum([C[j+n]*W[j] for j in range(1,m+1)])\n",
    "\n",
    "# Calculate the final expression\n",
    "P_final = A_poly * B_poly - C_poly\n",
    "\n",
    "# Expand and simplify the expression\n",
    "P_final, A_poly, B_poly, C_poly, T"
   ]
  },
  {
   "cell_type": "code",
   "execution_count": 38,
   "id": "b1666d6d-f198-4e5e-a754-18aba7ad8e8d",
   "metadata": {},
   "outputs": [
    {
     "data": {
      "text/plain": [
       "0"
      ]
     },
     "execution_count": 38,
     "metadata": {},
     "output_type": "execute_result"
    }
   ],
   "source": [
    "# Verify the quotient has no remainder\n",
    "P_final % T"
   ]
  },
  {
   "cell_type": "code",
   "execution_count": 39,
   "id": "8f0c5e05-2ad0-42a0-ba12-1d75aad8ab0e",
   "metadata": {},
   "outputs": [
    {
     "data": {
      "text/plain": [
       "17*t^2 + 10*t + 9"
      ]
     },
     "execution_count": 39,
     "metadata": {},
     "output_type": "execute_result"
    }
   ],
   "source": [
    "# Calculate the quotient polynomial\n",
    "H = P_final/T\n",
    "H"
   ]
  },
  {
   "cell_type": "markdown",
   "id": "9ad77e9e-cc22-4a3b-80bf-ab5d6e8cc993",
   "metadata": {},
   "source": [
    "## Testing using incorrect witness"
   ]
  },
  {
   "cell_type": "code",
   "execution_count": 40,
   "id": "c4315e0a-df55-4dfb-a2e0-e9ddd65fdc5c",
   "metadata": {},
   "outputs": [
    {
     "data": {
      "text/plain": [
       "(14*t^6 + 7*t^5 + 5*t^4 + 2*t^3 + 14*t^2 + 16*t + 5,\n",
       " 9*t^3 + 13*t^2 + 2*t + 15,\n",
       " 10*t^3 + 18*t^2 + 4*t + 13,\n",
       " 11*t^3 + 15*t^2 + 13*t)"
      ]
     },
     "execution_count": 40,
     "metadata": {},
     "output_type": "execute_result"
    }
   ],
   "source": [
    "W = [NaN,6,3,4,2,1,8,12,10,1]\n",
    "# Define the polynomial expressions\n",
    "A_poly = A[0] + sum([A[j]*I[j] for j in range(1,n+1)]) + sum([A[j+n]*W[j] for j in range(1,m+1)])\n",
    "\n",
    "B_poly = B[0] + sum([B[j]*I[j] for j in range(1,n+1)]) + sum([B[j+n]*W[j] for j in range(1,m+1)])\n",
    "\n",
    "C_poly = C[0] + sum([C[j]*I[j] for j in range(1,n+1)]) + sum([C[j+n]*W[j] for j in range(1,m+1)])\n",
    "\n",
    "# Calculate the final expression\n",
    "P_final = A_poly * B_poly - C_poly\n",
    "\n",
    "# Expand and simplify the expression\n",
    "P_final, A_poly, B_poly, C_poly"
   ]
  },
  {
   "cell_type": "code",
   "execution_count": 41,
   "id": "3818e892-e3fd-4a6a-9606-031711df705a",
   "metadata": {},
   "outputs": [
    {
     "data": {
      "text/plain": [
       "2*t^3 + 11*t^2 + 11*t + 9"
      ]
     },
     "execution_count": 41,
     "metadata": {},
     "output_type": "execute_result"
    }
   ],
   "source": [
    "P_final % T"
   ]
  }
 ],
 "metadata": {
  "kernelspec": {
   "display_name": "SageMath 10.3",
   "language": "sage",
   "name": "sagemath-10.3"
  },
  "language_info": {
   "codemirror_mode": {
    "name": "ipython",
    "version": 3
   },
   "file_extension": ".py",
   "mimetype": "text/x-python",
   "name": "python",
   "nbconvert_exporter": "python",
   "pygments_lexer": "ipython3",
   "version": "3.11.8"
  }
 },
 "nbformat": 4,
 "nbformat_minor": 5
}
